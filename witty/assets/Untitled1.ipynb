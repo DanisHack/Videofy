{
 "cells": [
  {
   "cell_type": "code",
   "execution_count": 3,
   "metadata": {},
   "outputs": [],
   "source": [
    "import os\n",
    "import sys\n",
    "import Tkinter as tkinter\n",
    "\n",
    "import gobject\n",
    "import gst\n",
    "\n",
    "def on_sync_message(bus, message, window_id):\n",
    "        if not message.structure is None:\n",
    "            if message.structure.get_name() == 'prepare-xwindow-id':\n",
    "                image_sink = message.src\n",
    "                image_sink.set_property('force-aspect-ratio', True)\n",
    "                image_sink.set_xwindow_id(window_id)\n",
    "\n",
    "gobject.threads_init()\n",
    "\n",
    "window = tkinter.Tk()\n",
    "window.geometry('500x400')\n",
    "\n",
    "video = tkinter.Frame(window, bg='#000000')\n",
    "video.pack(side=tkinter.BOTTOM,anchor=tkinter.S,expand=tkinter.YES,fill=tkinter.BOTH)\n",
    "\n",
    "window_id = video.winfo_id()\n",
    "\n",
    "player = gst.element_factory_make('playbin2', 'player')\n",
    "player.set_property('video-sink', None)\n",
    "player.set_property('uri', 'file://%s' % (os.path.abspath(sys.argv[1])))\n",
    "player.set_state(gst.STATE_PLAYING)\n",
    "\n",
    "bus = player.get_bus()\n",
    "bus.add_signal_watch()\n",
    "bus.enable_sync_message_emission()\n",
    "bus.connect('sync-message::element', on_sync_message, window_id)\n",
    "\n",
    "window.mainloop()"
   ]
  },
  {
   "cell_type": "code",
   "execution_count": null,
   "metadata": {},
   "outputs": [],
   "source": []
  }
 ],
 "metadata": {
  "kernelspec": {
   "display_name": "Python 2",
   "language": "python",
   "name": "python2"
  },
  "language_info": {
   "codemirror_mode": {
    "name": "ipython",
    "version": 2
   },
   "file_extension": ".py",
   "mimetype": "text/x-python",
   "name": "python",
   "nbconvert_exporter": "python",
   "pygments_lexer": "ipython2",
   "version": "2.7.12"
  }
 },
 "nbformat": 4,
 "nbformat_minor": 2
}
